{
 "cells": [
  {
   "cell_type": "markdown",
   "metadata": {},
   "source": [
    "# What drives the price of a car?\n",
    "\n",
    "![](images/kurt.jpeg)"
   ]
  },
  {
   "cell_type": "markdown",
   "metadata": {},
   "source": [
    "**OVERVIEW**\n",
    "\n",
    "In this application, you will explore a dataset from kaggle. The original dataset contained information on 3 million used cars. The provided dataset contains information on 426K cars to ensure speed of processing.  Your goal is to understand what factors make a car more or less expensive.  As a result of your analysis, you should provide clear recommendations to your client -- a used car dealership -- as to what consumers value in a used car."
   ]
  },
  {
   "cell_type": "markdown",
   "metadata": {},
   "source": [
    "### CRISP-DM Framework\n",
    "\n",
    "<center>\n",
    "    <img src = images/crisp.png width = 50%/>\n",
    "</center>\n",
    "\n",
    "\n",
    "To frame the task, throughout our practical applications we will refer back to a standard process in industry for data projects called CRISP-DM.  This process provides a framework for working through a data problem.  Your first step in this application will be to read through a brief overview of CRISP-DM [here](https://mo-pcco.s3.us-east-1.amazonaws.com/BH-PCMLAI/module_11/readings_starter.zip).  After reading the overview, answer the questions below."
   ]
  },
  {
   "cell_type": "markdown",
   "metadata": {},
   "source": [
    "### Business Understanding\n",
    "\n",
    "From a business perspective, we are tasked with identifying key drivers for used car prices.  In the CRISP-DM overview, we are asked to convert this business framing to a data problem definition.  Using a few sentences, reframe the task as a data task with the appropriate technical vocabulary. "
   ]
  },
  {
   "cell_type": "markdown",
   "metadata": {},
   "source": [
    "#### Data Problem Definition\n",
    "The task is to develop a predictive model to identify the key determinants or features that influence the selling price of used cars. This involves leveraging machine learning regression techniques to analyze a dataset comprising various attributes such as car specifications (e.g., year, make, model, cylinders), condition, mileage (odometer reading), and geographical factors (e.g., region, state). The objective is to quantify the relationship between these features and the price of the used cars, enabling the used car dealership to optimize inventory management, pricing strategies, and marketing efforts.\n"
   ]
  },
  {
   "cell_type": "markdown",
   "metadata": {},
   "source": [
    "### Data Understanding\n",
    "\n",
    "After considering the business understanding, we want to get familiar with our data.  Write down some steps that you would take to get to know the dataset and identify any quality issues within.  Take time to get to know the dataset and explore what information it contains and how this could be used to inform your business understanding."
   ]
  },
  {
   "cell_type": "markdown",
   "metadata": {},
   "source": [
    "#### 1. Load the Dataset\n",
    "Import the dataset into a Jupyter notebook and take an initial look at the first few rows to understand its structure and the type of data it contains."
   ]
  },
  {
   "cell_type": "code",
   "execution_count": 1,
   "metadata": {},
   "outputs": [
    {
     "data": {
      "text/html": [
       "<div>\n",
       "<style scoped>\n",
       "    .dataframe tbody tr th:only-of-type {\n",
       "        vertical-align: middle;\n",
       "    }\n",
       "\n",
       "    .dataframe tbody tr th {\n",
       "        vertical-align: top;\n",
       "    }\n",
       "\n",
       "    .dataframe thead th {\n",
       "        text-align: right;\n",
       "    }\n",
       "</style>\n",
       "<table border=\"1\" class=\"dataframe\">\n",
       "  <thead>\n",
       "    <tr style=\"text-align: right;\">\n",
       "      <th></th>\n",
       "      <th>id</th>\n",
       "      <th>region</th>\n",
       "      <th>price</th>\n",
       "      <th>year</th>\n",
       "      <th>manufacturer</th>\n",
       "      <th>model</th>\n",
       "      <th>condition</th>\n",
       "      <th>cylinders</th>\n",
       "      <th>fuel</th>\n",
       "      <th>odometer</th>\n",
       "      <th>title_status</th>\n",
       "      <th>transmission</th>\n",
       "      <th>VIN</th>\n",
       "      <th>drive</th>\n",
       "      <th>size</th>\n",
       "      <th>type</th>\n",
       "      <th>paint_color</th>\n",
       "      <th>state</th>\n",
       "    </tr>\n",
       "  </thead>\n",
       "  <tbody>\n",
       "    <tr>\n",
       "      <th>0</th>\n",
       "      <td>7222695916</td>\n",
       "      <td>prescott</td>\n",
       "      <td>6000</td>\n",
       "      <td>NaN</td>\n",
       "      <td>NaN</td>\n",
       "      <td>NaN</td>\n",
       "      <td>NaN</td>\n",
       "      <td>NaN</td>\n",
       "      <td>NaN</td>\n",
       "      <td>NaN</td>\n",
       "      <td>NaN</td>\n",
       "      <td>NaN</td>\n",
       "      <td>NaN</td>\n",
       "      <td>NaN</td>\n",
       "      <td>NaN</td>\n",
       "      <td>NaN</td>\n",
       "      <td>NaN</td>\n",
       "      <td>az</td>\n",
       "    </tr>\n",
       "    <tr>\n",
       "      <th>1</th>\n",
       "      <td>7218891961</td>\n",
       "      <td>fayetteville</td>\n",
       "      <td>11900</td>\n",
       "      <td>NaN</td>\n",
       "      <td>NaN</td>\n",
       "      <td>NaN</td>\n",
       "      <td>NaN</td>\n",
       "      <td>NaN</td>\n",
       "      <td>NaN</td>\n",
       "      <td>NaN</td>\n",
       "      <td>NaN</td>\n",
       "      <td>NaN</td>\n",
       "      <td>NaN</td>\n",
       "      <td>NaN</td>\n",
       "      <td>NaN</td>\n",
       "      <td>NaN</td>\n",
       "      <td>NaN</td>\n",
       "      <td>ar</td>\n",
       "    </tr>\n",
       "    <tr>\n",
       "      <th>2</th>\n",
       "      <td>7221797935</td>\n",
       "      <td>florida keys</td>\n",
       "      <td>21000</td>\n",
       "      <td>NaN</td>\n",
       "      <td>NaN</td>\n",
       "      <td>NaN</td>\n",
       "      <td>NaN</td>\n",
       "      <td>NaN</td>\n",
       "      <td>NaN</td>\n",
       "      <td>NaN</td>\n",
       "      <td>NaN</td>\n",
       "      <td>NaN</td>\n",
       "      <td>NaN</td>\n",
       "      <td>NaN</td>\n",
       "      <td>NaN</td>\n",
       "      <td>NaN</td>\n",
       "      <td>NaN</td>\n",
       "      <td>fl</td>\n",
       "    </tr>\n",
       "    <tr>\n",
       "      <th>3</th>\n",
       "      <td>7222270760</td>\n",
       "      <td>worcester / central MA</td>\n",
       "      <td>1500</td>\n",
       "      <td>NaN</td>\n",
       "      <td>NaN</td>\n",
       "      <td>NaN</td>\n",
       "      <td>NaN</td>\n",
       "      <td>NaN</td>\n",
       "      <td>NaN</td>\n",
       "      <td>NaN</td>\n",
       "      <td>NaN</td>\n",
       "      <td>NaN</td>\n",
       "      <td>NaN</td>\n",
       "      <td>NaN</td>\n",
       "      <td>NaN</td>\n",
       "      <td>NaN</td>\n",
       "      <td>NaN</td>\n",
       "      <td>ma</td>\n",
       "    </tr>\n",
       "    <tr>\n",
       "      <th>4</th>\n",
       "      <td>7210384030</td>\n",
       "      <td>greensboro</td>\n",
       "      <td>4900</td>\n",
       "      <td>NaN</td>\n",
       "      <td>NaN</td>\n",
       "      <td>NaN</td>\n",
       "      <td>NaN</td>\n",
       "      <td>NaN</td>\n",
       "      <td>NaN</td>\n",
       "      <td>NaN</td>\n",
       "      <td>NaN</td>\n",
       "      <td>NaN</td>\n",
       "      <td>NaN</td>\n",
       "      <td>NaN</td>\n",
       "      <td>NaN</td>\n",
       "      <td>NaN</td>\n",
       "      <td>NaN</td>\n",
       "      <td>nc</td>\n",
       "    </tr>\n",
       "  </tbody>\n",
       "</table>\n",
       "</div>"
      ],
      "text/plain": [
       "           id                  region  price  year manufacturer model  \\\n",
       "0  7222695916                prescott   6000   NaN          NaN   NaN   \n",
       "1  7218891961            fayetteville  11900   NaN          NaN   NaN   \n",
       "2  7221797935            florida keys  21000   NaN          NaN   NaN   \n",
       "3  7222270760  worcester / central MA   1500   NaN          NaN   NaN   \n",
       "4  7210384030              greensboro   4900   NaN          NaN   NaN   \n",
       "\n",
       "  condition cylinders fuel  odometer title_status transmission  VIN drive  \\\n",
       "0       NaN       NaN  NaN       NaN          NaN          NaN  NaN   NaN   \n",
       "1       NaN       NaN  NaN       NaN          NaN          NaN  NaN   NaN   \n",
       "2       NaN       NaN  NaN       NaN          NaN          NaN  NaN   NaN   \n",
       "3       NaN       NaN  NaN       NaN          NaN          NaN  NaN   NaN   \n",
       "4       NaN       NaN  NaN       NaN          NaN          NaN  NaN   NaN   \n",
       "\n",
       "  size type paint_color state  \n",
       "0  NaN  NaN         NaN    az  \n",
       "1  NaN  NaN         NaN    ar  \n",
       "2  NaN  NaN         NaN    fl  \n",
       "3  NaN  NaN         NaN    ma  \n",
       "4  NaN  NaN         NaN    nc  "
      ]
     },
     "execution_count": 1,
     "metadata": {},
     "output_type": "execute_result"
    }
   ],
   "source": [
    "import pandas as pd\n",
    "import numpy as np\n",
    "import warnings\n",
    "warnings.filterwarnings(\"ignore\")\n",
    "\n",
    "# Load the dataset\n",
    "df = pd.read_csv('data/vehicles.csv')\n",
    "\n",
    "# Display the first few rows\n",
    "df.head()\n"
   ]
  },
  {
   "cell_type": "markdown",
   "metadata": {},
   "source": [
    "#### 2. Descriptive Statistics\n",
    "Generate descriptive statistics to get an overview of the numerical features. This will help in identifying outliers and understanding the distribution of the data."
   ]
  },
  {
   "cell_type": "code",
   "execution_count": 2,
   "metadata": {
    "scrolled": true
   },
   "outputs": [
    {
     "data": {
      "text/html": [
       "<div>\n",
       "<style scoped>\n",
       "    .dataframe tbody tr th:only-of-type {\n",
       "        vertical-align: middle;\n",
       "    }\n",
       "\n",
       "    .dataframe tbody tr th {\n",
       "        vertical-align: top;\n",
       "    }\n",
       "\n",
       "    .dataframe thead th {\n",
       "        text-align: right;\n",
       "    }\n",
       "</style>\n",
       "<table border=\"1\" class=\"dataframe\">\n",
       "  <thead>\n",
       "    <tr style=\"text-align: right;\">\n",
       "      <th></th>\n",
       "      <th>id</th>\n",
       "      <th>price</th>\n",
       "      <th>year</th>\n",
       "      <th>odometer</th>\n",
       "    </tr>\n",
       "  </thead>\n",
       "  <tbody>\n",
       "    <tr>\n",
       "      <th>count</th>\n",
       "      <td>4.268800e+05</td>\n",
       "      <td>4.268800e+05</td>\n",
       "      <td>425675.000000</td>\n",
       "      <td>4.224800e+05</td>\n",
       "    </tr>\n",
       "    <tr>\n",
       "      <th>mean</th>\n",
       "      <td>7.311487e+09</td>\n",
       "      <td>7.519903e+04</td>\n",
       "      <td>2011.235191</td>\n",
       "      <td>9.804333e+04</td>\n",
       "    </tr>\n",
       "    <tr>\n",
       "      <th>std</th>\n",
       "      <td>4.473170e+06</td>\n",
       "      <td>1.218228e+07</td>\n",
       "      <td>9.452120</td>\n",
       "      <td>2.138815e+05</td>\n",
       "    </tr>\n",
       "    <tr>\n",
       "      <th>min</th>\n",
       "      <td>7.207408e+09</td>\n",
       "      <td>0.000000e+00</td>\n",
       "      <td>1900.000000</td>\n",
       "      <td>0.000000e+00</td>\n",
       "    </tr>\n",
       "    <tr>\n",
       "      <th>25%</th>\n",
       "      <td>7.308143e+09</td>\n",
       "      <td>5.900000e+03</td>\n",
       "      <td>2008.000000</td>\n",
       "      <td>3.770400e+04</td>\n",
       "    </tr>\n",
       "    <tr>\n",
       "      <th>50%</th>\n",
       "      <td>7.312621e+09</td>\n",
       "      <td>1.395000e+04</td>\n",
       "      <td>2013.000000</td>\n",
       "      <td>8.554800e+04</td>\n",
       "    </tr>\n",
       "    <tr>\n",
       "      <th>75%</th>\n",
       "      <td>7.315254e+09</td>\n",
       "      <td>2.648575e+04</td>\n",
       "      <td>2017.000000</td>\n",
       "      <td>1.335425e+05</td>\n",
       "    </tr>\n",
       "    <tr>\n",
       "      <th>max</th>\n",
       "      <td>7.317101e+09</td>\n",
       "      <td>3.736929e+09</td>\n",
       "      <td>2022.000000</td>\n",
       "      <td>1.000000e+07</td>\n",
       "    </tr>\n",
       "  </tbody>\n",
       "</table>\n",
       "</div>"
      ],
      "text/plain": [
       "                 id         price           year      odometer\n",
       "count  4.268800e+05  4.268800e+05  425675.000000  4.224800e+05\n",
       "mean   7.311487e+09  7.519903e+04    2011.235191  9.804333e+04\n",
       "std    4.473170e+06  1.218228e+07       9.452120  2.138815e+05\n",
       "min    7.207408e+09  0.000000e+00    1900.000000  0.000000e+00\n",
       "25%    7.308143e+09  5.900000e+03    2008.000000  3.770400e+04\n",
       "50%    7.312621e+09  1.395000e+04    2013.000000  8.554800e+04\n",
       "75%    7.315254e+09  2.648575e+04    2017.000000  1.335425e+05\n",
       "max    7.317101e+09  3.736929e+09    2022.000000  1.000000e+07"
      ]
     },
     "execution_count": 2,
     "metadata": {},
     "output_type": "execute_result"
    }
   ],
   "source": [
    "# Generate descriptive statistics\n",
    "df.describe()"
   ]
  },
  {
   "cell_type": "markdown",
   "metadata": {},
   "source": [
    "#### Observations\n",
    "1. Price:\n",
    "- The minimum price is 0, which seems unrealistic for a used car.\n",
    "- The maximum price is extremely high, indicating potential outliers.\n",
    "2. Year:\n",
    "- The dataset spans from the year 1900 to 2022, with a median year of 2013 and a mean year of 2011. This indicates that the dataset includes a variety of older and newer cars.\n",
    "3. Odometer:\n",
    "- The minimum odometer reading is 0, which is unlikely for a used car.\n",
    "- The maximum odometer reading is 10,000,000, which seems extremely high and could be an outlier.\n",
    "\n",
    "This information can be used in determining data cleaning & feature engineering methods. "
   ]
  },
  {
   "cell_type": "markdown",
   "metadata": {},
   "source": [
    "#### 3. Data Types and Missing Values\n",
    "Check the data types of each column and identify any missing values that may require imputation or removal."
   ]
  },
  {
   "cell_type": "code",
   "execution_count": 3,
   "metadata": {},
   "outputs": [
    {
     "name": "stdout",
     "output_type": "stream",
     "text": [
      "<class 'pandas.core.frame.DataFrame'>\n",
      "RangeIndex: 426880 entries, 0 to 426879\n",
      "Data columns (total 18 columns):\n",
      " #   Column        Non-Null Count   Dtype  \n",
      "---  ------        --------------   -----  \n",
      " 0   id            426880 non-null  int64  \n",
      " 1   region        426880 non-null  object \n",
      " 2   price         426880 non-null  int64  \n",
      " 3   year          425675 non-null  float64\n",
      " 4   manufacturer  409234 non-null  object \n",
      " 5   model         421603 non-null  object \n",
      " 6   condition     252776 non-null  object \n",
      " 7   cylinders     249202 non-null  object \n",
      " 8   fuel          423867 non-null  object \n",
      " 9   odometer      422480 non-null  float64\n",
      " 10  title_status  418638 non-null  object \n",
      " 11  transmission  424324 non-null  object \n",
      " 12  VIN           265838 non-null  object \n",
      " 13  drive         296313 non-null  object \n",
      " 14  size          120519 non-null  object \n",
      " 15  type          334022 non-null  object \n",
      " 16  paint_color   296677 non-null  object \n",
      " 17  state         426880 non-null  object \n",
      "dtypes: float64(2), int64(2), object(14)\n",
      "memory usage: 58.6+ MB\n"
     ]
    }
   ],
   "source": [
    "# Check data types and missing values\n",
    "df.info()"
   ]
  },
  {
   "cell_type": "markdown",
   "metadata": {},
   "source": [
    "#### 4. Unique Values\n",
    "Examine the unique values in categorical columns (e.g., manufacturer, model, condition, fuel type, transmission) to understand the variety and distribution within each category."
   ]
  },
  {
   "cell_type": "code",
   "execution_count": 4,
   "metadata": {
    "scrolled": true
   },
   "outputs": [
    {
     "name": "stdout",
     "output_type": "stream",
     "text": [
      "Unique values in region: ['prescott' 'fayetteville' 'florida keys' 'worcester / central MA'\n",
      " 'greensboro' 'hudson valley' 'medford-ashland' 'erie' 'el paso'\n",
      " 'bellingham' 'skagit / island / SJI' 'la crosse' 'auburn' 'birmingham'\n",
      " 'dothan' 'florence / muscle shoals' 'gadsden-anniston'\n",
      " 'huntsville / decatur' 'mobile' 'montgomery' 'tuscaloosa'\n",
      " 'anchorage / mat-su' 'fairbanks' 'kenai peninsula' 'southeast alaska'\n",
      " 'flagstaff / sedona' 'mohave county' 'phoenix' 'show low' 'sierra vista'\n",
      " 'tucson' 'yuma' 'fort smith' 'jonesboro' 'little rock' 'texarkana'\n",
      " 'bakersfield' 'chico' 'fresno / madera' 'gold country' 'hanford-corcoran'\n",
      " 'humboldt county' 'imperial county' 'inland empire' 'los angeles'\n",
      " 'mendocino county' 'merced' 'modesto' 'monterey bay' 'orange county'\n",
      " 'palm springs' 'redding' 'reno / tahoe' 'sacramento' 'san diego'\n",
      " 'san luis obispo' 'santa barbara' 'santa maria' 'SF bay area'\n",
      " 'siskiyou county' 'stockton' 'susanville' 'ventura county'\n",
      " 'visalia-tulare' 'yuba-sutter' 'boulder' 'colorado springs' 'denver'\n",
      " 'eastern CO' 'fort collins / north CO' 'high rockies' 'pueblo'\n",
      " 'western slope' 'eastern CT' 'hartford' 'new haven' 'northwest CT'\n",
      " 'washington, DC' 'delaware' 'daytona beach' 'ft myers / SW florida'\n",
      " 'gainesville' 'heartland florida' 'jacksonville' 'lakeland'\n",
      " 'north central FL' 'ocala' 'okaloosa / walton' 'orlando' 'panama city'\n",
      " 'pensacola' 'sarasota-bradenton' 'south florida' 'space coast'\n",
      " 'st augustine' 'tallahassee' 'tampa bay area' 'treasure coast' 'albany'\n",
      " 'athens' 'atlanta' 'augusta' 'brunswick' 'columbus'\n",
      " 'macon / warner robins' 'northwest GA' 'savannah / hinesville'\n",
      " 'statesboro' 'valdosta' 'hawaii' 'boise' 'east idaho'\n",
      " 'lewiston / clarkston' 'pullman / moscow' \"spokane / coeur d'alene\"\n",
      " 'twin falls' 'bloomington-normal' 'champaign urbana' 'chicago' 'decatur'\n",
      " 'la salle co' 'mattoon-charleston' 'peoria' 'quad cities, IA/IL'\n",
      " 'rockford' 'southern illinois' 'springfield' 'st louis, MO' 'western IL'\n",
      " 'bloomington' 'evansville' 'fort wayne' 'indianapolis' 'kokomo'\n",
      " 'lafayette / west lafayette' 'muncie / anderson' 'richmond'\n",
      " 'south bend / michiana' 'terre haute' 'ames' 'cedar rapids' 'des moines'\n",
      " 'dubuque' 'fort dodge' 'iowa city' 'mason city' 'omaha / council bluffs'\n",
      " 'sioux city' 'southeast IA' 'waterloo / cedar falls' 'kansas city, MO'\n",
      " 'lawrence' 'manhattan' 'northwest KS' 'salina' 'southeast KS'\n",
      " 'southwest KS' 'topeka' 'wichita' 'bowling green' 'eastern kentucky'\n",
      " 'huntington-ashland' 'lexington' 'louisville' 'owensboro' 'western KY'\n",
      " 'baton rouge' 'central louisiana' 'houma' 'lafayette' 'lake charles'\n",
      " 'monroe' 'new orleans' 'shreveport' 'maine' 'annapolis' 'baltimore'\n",
      " 'cumberland valley' 'eastern shore' 'frederick' 'southern maryland'\n",
      " 'western maryland' 'boston' 'cape cod / islands' 'south coast'\n",
      " 'western massachusetts' 'ann arbor' 'battle creek' 'central michigan'\n",
      " 'detroit metro' 'flint' 'grand rapids' 'holland' 'jackson' 'kalamazoo'\n",
      " 'lansing' 'muskegon' 'northern michigan' 'port huron'\n",
      " 'saginaw-midland-baycity' 'southwest michigan' 'the thumb'\n",
      " 'upper peninsula' 'bemidji' 'brainerd' 'duluth / superior'\n",
      " 'fargo / moorhead' 'mankato' 'minneapolis / st paul' 'rochester'\n",
      " 'southwest MN' 'st cloud' 'gulfport / biloxi' 'hattiesburg' 'meridian'\n",
      " 'north mississippi' 'southwest MS' 'columbia / jeff city' 'joplin'\n",
      " 'kansas city' 'kirksville' 'lake of the ozarks' 'southeast missouri'\n",
      " 'st joseph' 'st louis' 'billings' 'bozeman' 'butte' 'eastern montana'\n",
      " 'great falls' 'helena' 'kalispell' 'missoula' 'asheville' 'boone'\n",
      " 'charlotte' 'eastern NC' 'hickory / lenoir' 'outer banks'\n",
      " 'raleigh / durham / CH' 'wilmington' 'winston-salem' 'grand island'\n",
      " 'lincoln' 'north platte' 'scottsbluff / panhandle' 'elko' 'las vegas'\n",
      " 'central NJ' 'jersey shore' 'north jersey' 'south jersey' 'albuquerque'\n",
      " 'clovis / portales' 'farmington' 'las cruces' 'roswell / carlsbad'\n",
      " 'santa fe / taos' 'binghamton' 'buffalo' 'catskills' 'chautauqua'\n",
      " 'elmira-corning' 'finger lakes' 'glens falls' 'ithaca' 'long island'\n",
      " 'new york city' 'oneonta' 'plattsburgh-adirondacks'\n",
      " 'potsdam-canton-massena' 'syracuse' 'twin tiers NY/PA'\n",
      " 'utica-rome-oneida' 'watertown' 'new hampshire' 'bismarck' 'grand forks'\n",
      " 'north dakota' 'akron / canton' 'ashtabula' 'chillicothe' 'cincinnati'\n",
      " 'cleveland' 'dayton / springfield' 'lima / findlay' 'mansfield'\n",
      " 'northern panhandle' 'parkersburg-marietta' 'sandusky' 'toledo'\n",
      " 'tuscarawas co' 'youngstown' 'zanesville / cambridge' 'fort smith, AR'\n",
      " 'lawton' 'northwest OK' 'oklahoma city' 'stillwater' 'texoma' 'tulsa'\n",
      " 'bend' 'corvallis/albany' 'east oregon' 'eugene' 'klamath falls'\n",
      " 'oregon coast' 'portland' 'roseburg' 'salem' 'altoona-johnstown'\n",
      " 'harrisburg' 'lancaster' 'lehigh valley' 'meadville' 'philadelphia'\n",
      " 'pittsburgh' 'poconos' 'reading' 'scranton / wilkes-barre'\n",
      " 'state college' 'williamsport' 'york' 'rhode island' 'charleston'\n",
      " 'columbia' 'florence' 'greenville / upstate' 'hilton head' 'myrtle beach'\n",
      " 'northeast SD' 'pierre / central SD' 'rapid city / west SD'\n",
      " 'sioux falls / SE SD' 'south dakota' 'chattanooga' 'clarksville'\n",
      " 'cookeville' 'knoxville' 'memphis' 'nashville' 'tri-cities' 'abilene'\n",
      " 'amarillo' 'austin' 'beaumont / port arthur' 'brownsville'\n",
      " 'college station' 'corpus christi' 'dallas / fort worth'\n",
      " 'deep east texas' 'del rio / eagle pass' 'galveston' 'houston'\n",
      " 'killeen / temple / ft hood' 'laredo' 'lubbock' 'mcallen / edinburg'\n",
      " 'odessa / midland' 'san angelo' 'san antonio' 'san marcos' 'southwest TX'\n",
      " 'tyler / east TX' 'victoria' 'waco' 'wichita falls' 'logan'\n",
      " 'ogden-clearfield' 'provo / orem' 'salt lake city' 'st george' 'vermont'\n",
      " 'charlottesville' 'danville' 'fredericksburg' 'harrisonburg' 'lynchburg'\n",
      " 'new river valley' 'norfolk / hampton roads' 'roanoke' 'southwest VA'\n",
      " 'winchester' 'kennewick-pasco-richland' 'moses lake' 'olympic peninsula'\n",
      " 'seattle-tacoma' 'wenatchee' 'yakima' 'eastern panhandle' 'morgantown'\n",
      " 'southern WV' 'west virginia (old)' 'appleton-oshkosh-FDL' 'eau claire'\n",
      " 'green bay' 'janesville' 'kenosha-racine' 'madison' 'milwaukee'\n",
      " 'northern WI' 'sheboygan' 'wausau' 'wyoming']\n",
      "Unique values in manufacturer: [nan 'gmc' 'chevrolet' 'toyota' 'ford' 'jeep' 'nissan' 'ram' 'mazda'\n",
      " 'cadillac' 'honda' 'dodge' 'lexus' 'jaguar' 'buick' 'chrysler' 'volvo'\n",
      " 'audi' 'infiniti' 'lincoln' 'alfa-romeo' 'subaru' 'acura' 'hyundai'\n",
      " 'mercedes-benz' 'bmw' 'mitsubishi' 'volkswagen' 'porsche' 'kia' 'rover'\n",
      " 'ferrari' 'mini' 'pontiac' 'fiat' 'tesla' 'saturn' 'mercury'\n",
      " 'harley-davidson' 'datsun' 'aston-martin' 'land rover' 'morgan']\n",
      "Unique values in model: [nan 'sierra 1500 crew cab slt' 'silverado 1500' ... 'gand wagoneer'\n",
      " '96 Suburban' 'Paige Glenbrook Touring']\n",
      "Unique values in condition: [nan 'good' 'excellent' 'fair' 'like new' 'new' 'salvage']\n",
      "Unique values in cylinders: [nan '8 cylinders' '6 cylinders' '4 cylinders' '5 cylinders' 'other'\n",
      " '3 cylinders' '10 cylinders' '12 cylinders']\n",
      "Unique values in fuel: [nan 'gas' 'other' 'diesel' 'hybrid' 'electric']\n",
      "Unique values in title_status: [nan 'clean' 'rebuilt' 'lien' 'salvage' 'missing' 'parts only']\n",
      "Unique values in transmission: [nan 'other' 'automatic' 'manual']\n",
      "Unique values in VIN: [nan '3GTP1VEC4EG551563' '1GCSCSE06AZ123805' ... '2HGES15535H620534'\n",
      " '1FDWF37P64EA24868' 'SAJGX2749VCOO8376']\n",
      "Unique values in drive: [nan 'rwd' '4wd' 'fwd']\n",
      "Unique values in size: [nan 'full-size' 'mid-size' 'compact' 'sub-compact']\n",
      "Unique values in type: [nan 'pickup' 'truck' 'other' 'coupe' 'SUV' 'hatchback' 'mini-van' 'sedan'\n",
      " 'offroad' 'bus' 'van' 'convertible' 'wagon']\n",
      "Unique values in paint_color: [nan 'white' 'blue' 'red' 'black' 'silver' 'grey' 'brown' 'yellow'\n",
      " 'orange' 'green' 'custom' 'purple']\n",
      "Unique values in state: ['az' 'ar' 'fl' 'ma' 'nc' 'ny' 'or' 'pa' 'tx' 'wa' 'wi' 'al' 'ak' 'ca'\n",
      " 'co' 'ct' 'dc' 'de' 'ga' 'hi' 'id' 'il' 'in' 'ia' 'ks' 'ky' 'la' 'me'\n",
      " 'md' 'mi' 'mn' 'ms' 'mo' 'mt' 'ne' 'nv' 'nj' 'nm' 'nh' 'nd' 'oh' 'ok'\n",
      " 'ri' 'sc' 'sd' 'tn' 'ut' 'vt' 'va' 'wv' 'wy']\n"
     ]
    }
   ],
   "source": [
    "# Check unique values in categorical columns\n",
    "categorical_columns = ['region','manufacturer', 'model', 'condition', 'cylinders', 'fuel', 'title_status', 'transmission', 'VIN', 'drive', 'size', 'type', 'paint_color', 'state']\n",
    "\n",
    "for col in categorical_columns:\n",
    "    print(f\"Unique values in {col}: {df[col].unique()}\")"
   ]
  },
  {
   "cell_type": "markdown",
   "metadata": {},
   "source": [
    "#### 5. Data Distribution\n",
    "Visualize the distribution of the target variable ('price') and other key numerical features using histograms, box plots, or density plots."
   ]
  },
  {
   "cell_type": "code",
   "execution_count": 5,
   "metadata": {},
   "outputs": [
    {
     "data": {
      "image/png": "[encoded data removed]",
      "text/plain": [
       "<Figure size 1000x600 with 1 Axes>"
      ]
     },
     "metadata": {},
     "output_type": "display_data"
    }
   ],
   "source": [
    "import matplotlib.pyplot as plt\n",
    "import seaborn as sns\n",
    "\n",
    "# Visualize the distribution of 'price'\n",
    "plt.figure(figsize=(10, 6))\n",
    "sns.histplot(df['price'], bins=50, kde=True)\n",
    "plt.title('Distribution of Price')\n",
    "plt.xlabel('Price')\n",
    "plt.ylabel('Frequency')\n",
    "plt.show()"
   ]
  },
  {
   "cell_type": "code",
   "execution_count": 6,
   "metadata": {},
   "outputs": [
    {
     "data": {
      "image/png": "[encoded data removed]",
      "text/plain": [
       "<Figure size 1000x600 with 1 Axes>"
      ]
     },
     "metadata": {},
     "output_type": "display_data"
    }
   ],
   "source": [
    "# Check for outliers in 'price' and 'odometer' using box plots\n",
    "plt.figure(figsize=(10, 6))\n",
    "sns.boxplot(x=df['price'])\n",
    "plt.title('Boxplot of Price')\n",
    "plt.show()\n"
   ]
  },
  {
   "cell_type": "code",
   "execution_count": 7,
   "metadata": {},
   "outputs": [
    {
     "data": {
      "image/png": "[encoded data removed]",
      "text/plain": [
       "<Figure size 1000x600 with 1 Axes>"
      ]
     },
     "metadata": {},
     "output_type": "display_data"
    }
   ],
   "source": [
    "plt.figure(figsize=(10, 6))\n",
    "sns.boxplot(x=df['odometer'])\n",
    "plt.title('Boxplot of Odometer')\n",
    "plt.show()"
   ]
  },
  {
   "cell_type": "markdown",
   "metadata": {},
   "source": [
    "Price and odometer seem to have outliers."
   ]
  },
  {
   "cell_type": "markdown",
   "metadata": {},
   "source": [
    "#### 6. Correlation Analysis\n",
    "Compute the correlation matrix to identify potential multicollinearity between numerical features and the target variable."
   ]
  },
  {
   "cell_type": "code",
   "execution_count": 8,
   "metadata": {},
   "outputs": [
    {
     "data": {
      "image/png": "[encoded data removed]",
      "text/plain": [
       "<Figure size 1200x800 with 2 Axes>"
      ]
     },
     "metadata": {},
     "output_type": "display_data"
    }
   ],
   "source": [
    "numerical_columns = ['price','year', 'odometer']\n",
    "df_numerical = df[numerical_columns]\n",
    "\n",
    "# Compute the correlation matrix\n",
    "correlation_matrix = df_numerical.corr()\n",
    "\n",
    "# Visualize the correlation matrix using a heatmap\n",
    "plt.figure(figsize=(12, 8))\n",
    "sns.heatmap(correlation_matrix, annot=True, cmap='coolwarm', fmt=\".2f\")\n",
    "plt.title('Correlation Matrix')\n",
    "plt.show()"
   ]
  },
  {
   "cell_type": "markdown",
   "metadata": {},
   "source": [
    "Numerical variables are not highly correlated. "
   ]
  },
  {
   "cell_type": "markdown",
   "metadata": {},
   "source": [
    "### Data Preparation\n",
    "\n",
    "After our initial exploration and fine tuning of the business understanding, it is time to construct our final dataset prior to modeling.  Here, we want to make sure to handle any integrity issues and cleaning, the engineering of new features, any transformations that we believe should happen (scaling, logarithms, normalization, etc.), and general preparation for modeling with `sklearn`. "
   ]
  },
  {
   "cell_type": "markdown",
   "metadata": {},
   "source": [
    "#### Data Cleaning"
   ]
  },
  {
   "cell_type": "code",
   "execution_count": 9,
   "metadata": {},
   "outputs": [],
   "source": [
    "# Remove unrealistic values in 'price' and 'odometer'\n",
    "df = df[(df['price'] > 0) & (df['odometer'] > 0)]"
   ]
  },
  {
   "cell_type": "code",
   "execution_count": 10,
   "metadata": {},
   "outputs": [
    {
     "name": "stdout",
     "output_type": "stream",
     "text": [
      "<class 'pandas.core.frame.DataFrame'>\n",
      "Index: 390581 entries, 27 to 426879\n",
      "Data columns (total 18 columns):\n",
      " #   Column        Non-Null Count   Dtype  \n",
      "---  ------        --------------   -----  \n",
      " 0   id            390581 non-null  int64  \n",
      " 1   region        390581 non-null  object \n",
      " 2   price         390581 non-null  int64  \n",
      " 3   year          389482 non-null  float64\n",
      " 4   manufacturer  374714 non-null  object \n",
      " 5   model         385965 non-null  object \n",
      " 6   condition     240504 non-null  object \n",
      " 7   cylinders     231815 non-null  object \n",
      " 8   fuel          388295 non-null  object \n",
      " 9   odometer      390581 non-null  float64\n",
      " 10  title_status  383368 non-null  object \n",
      " 11  transmission  389061 non-null  object \n",
      " 12  VIN           239774 non-null  object \n",
      " 13  drive         271277 non-null  object \n",
      " 14  size          110423 non-null  object \n",
      " 15  type          305431 non-null  object \n",
      " 16  paint_color   274961 non-null  object \n",
      " 17  state         390581 non-null  object \n",
      "dtypes: float64(2), int64(2), object(14)\n",
      "memory usage: 56.6+ MB\n"
     ]
    }
   ],
   "source": [
    "# Check data types and missing values\n",
    "df.info()"
   ]
  },
  {
   "cell_type": "code",
   "execution_count": 11,
   "metadata": {},
   "outputs": [],
   "source": [
    "# Drop Unnecessary Columns\n",
    "df = df.drop(['id', 'region', 'state', 'VIN'], axis=1)\n",
    "\n",
    "# Drop Columns with Not Enough Data\n",
    "df = df.drop(['size'], axis=1)"
   ]
  },
  {
   "cell_type": "code",
   "execution_count": 12,
   "metadata": {},
   "outputs": [
    {
     "name": "stdout",
     "output_type": "stream",
     "text": [
      "<class 'pandas.core.frame.DataFrame'>\n",
      "Index: 390581 entries, 27 to 426879\n",
      "Data columns (total 13 columns):\n",
      " #   Column        Non-Null Count   Dtype  \n",
      "---  ------        --------------   -----  \n",
      " 0   price         390581 non-null  int64  \n",
      " 1   year          389482 non-null  float64\n",
      " 2   manufacturer  374714 non-null  object \n",
      " 3   model         385965 non-null  object \n",
      " 4   condition     240504 non-null  object \n",
      " 5   cylinders     231815 non-null  object \n",
      " 6   fuel          388295 non-null  object \n",
      " 7   odometer      390581 non-null  float64\n",
      " 8   title_status  383368 non-null  object \n",
      " 9   transmission  389061 non-null  object \n",
      " 10  drive         271277 non-null  object \n",
      " 11  type          305431 non-null  object \n",
      " 12  paint_color   274961 non-null  object \n",
      "dtypes: float64(2), int64(1), object(10)\n",
      "memory usage: 41.7+ MB\n"
     ]
    }
   ],
   "source": [
    "df.info()"
   ]
  },
  {
   "cell_type": "markdown",
   "metadata": {},
   "source": [
    "#### Handle Missing Values"
   ]
  },
  {
   "cell_type": "code",
   "execution_count": 13,
   "metadata": {},
   "outputs": [],
   "source": [
    "# Remove rows where variables are NaN\n",
    "df = df.dropna()"
   ]
  },
  {
   "cell_type": "code",
   "execution_count": 14,
   "metadata": {},
   "outputs": [
    {
     "name": "stdout",
     "output_type": "stream",
     "text": [
      "<class 'pandas.core.frame.DataFrame'>\n",
      "Index: 111427 entries, 31 to 426878\n",
      "Data columns (total 13 columns):\n",
      " #   Column        Non-Null Count   Dtype  \n",
      "---  ------        --------------   -----  \n",
      " 0   price         111427 non-null  int64  \n",
      " 1   year          111427 non-null  float64\n",
      " 2   manufacturer  111427 non-null  object \n",
      " 3   model         111427 non-null  object \n",
      " 4   condition     111427 non-null  object \n",
      " 5   cylinders     111427 non-null  object \n",
      " 6   fuel          111427 non-null  object \n",
      " 7   odometer      111427 non-null  float64\n",
      " 8   title_status  111427 non-null  object \n",
      " 9   transmission  111427 non-null  object \n",
      " 10  drive         111427 non-null  object \n",
      " 11  type          111427 non-null  object \n",
      " 12  paint_color   111427 non-null  object \n",
      "dtypes: float64(2), int64(1), object(10)\n",
      "memory usage: 11.9+ MB\n"
     ]
    }
   ],
   "source": [
    "df.info()"
   ]
  },
  {
   "cell_type": "code",
   "execution_count": 15,
   "metadata": {},
   "outputs": [
    {
     "data": {
      "image/png": "[encoded data removed]",
      "text/plain": [
       "<Figure size 1000x600 with 1 Axes>"
      ]
     },
     "metadata": {},
     "output_type": "display_data"
    }
   ],
   "source": [
    "## Visualize the distribution of 'price' after cleaning\n",
    "plt.figure(figsize=(10, 6))\n",
    "sns.histplot(df['price'], bins=50, kde=True)\n",
    "plt.title('Distribution of Price After Cleaning')\n",
    "plt.xlabel('Price')\n",
    "plt.ylabel('Frequency')\n",
    "plt.show()"
   ]
  },
  {
   "cell_type": "code",
   "execution_count": 16,
   "metadata": {},
   "outputs": [
    {
     "data": {
      "image/png": "[encoded data removed]",
      "text/plain": [
       "<Figure size 1000x600 with 1 Axes>"
      ]
     },
     "metadata": {},
     "output_type": "display_data"
    }
   ],
   "source": [
    "## Visualize the distribution of 'odometer' after cleaning\n",
    "plt.figure(figsize=(10, 6))\n",
    "sns.histplot(df['odometer'], bins=50, kde=True)\n",
    "plt.title('Distribution of Odometer After Cleaning')\n",
    "plt.xlabel('Odometer')\n",
    "plt.ylabel('Frequency')\n",
    "plt.show()"
   ]
  },
  {
   "cell_type": "markdown",
   "metadata": {},
   "source": [
    "#### Feature Engineering"
   ]
  },
  {
   "cell_type": "code",
   "execution_count": 17,
   "metadata": {},
   "outputs": [],
   "source": [
    "# Create new feature 'car_age'\n",
    "df['car_age'] = 2024 - df['year']"
   ]
  },
  {
   "cell_type": "markdown",
   "metadata": {},
   "source": [
    "#### Data Transformation"
   ]
  },
  {
   "cell_type": "code",
   "execution_count": 18,
   "metadata": {},
   "outputs": [
    {
     "data": {
      "text/html": [
       "<div>\n",
       "<style scoped>\n",
       "    .dataframe tbody tr th:only-of-type {\n",
       "        vertical-align: middle;\n",
       "    }\n",
       "\n",
       "    .dataframe tbody tr th {\n",
       "        vertical-align: top;\n",
       "    }\n",
       "\n",
       "    .dataframe thead th {\n",
       "        text-align: right;\n",
       "    }\n",
       "</style>\n",
       "<table border=\"1\" class=\"dataframe\">\n",
       "  <thead>\n",
       "    <tr style=\"text-align: right;\">\n",
       "      <th></th>\n",
       "      <th>price</th>\n",
       "      <th>price_log</th>\n",
       "      <th>odometer</th>\n",
       "      <th>odometer_log</th>\n",
       "      <th>car_age</th>\n",
       "    </tr>\n",
       "  </thead>\n",
       "  <tbody>\n",
       "    <tr>\n",
       "      <th>count</th>\n",
       "      <td>1.114270e+05</td>\n",
       "      <td>111427.000000</td>\n",
       "      <td>1.114270e+05</td>\n",
       "      <td>111427.000000</td>\n",
       "      <td>111427.000000</td>\n",
       "    </tr>\n",
       "    <tr>\n",
       "      <th>mean</th>\n",
       "      <td>6.312663e+04</td>\n",
       "      <td>9.256585</td>\n",
       "      <td>1.113464e+05</td>\n",
       "      <td>11.250920</td>\n",
       "      <td>14.565671</td>\n",
       "    </tr>\n",
       "    <tr>\n",
       "      <th>std</th>\n",
       "      <td>1.169797e+07</td>\n",
       "      <td>1.215175</td>\n",
       "      <td>1.860865e+05</td>\n",
       "      <td>1.160534</td>\n",
       "      <td>9.615429</td>\n",
       "    </tr>\n",
       "    <tr>\n",
       "      <th>min</th>\n",
       "      <td>1.000000e+00</td>\n",
       "      <td>0.693147</td>\n",
       "      <td>1.000000e+00</td>\n",
       "      <td>0.693147</td>\n",
       "      <td>2.000000</td>\n",
       "    </tr>\n",
       "    <tr>\n",
       "      <th>25%</th>\n",
       "      <td>6.000000e+03</td>\n",
       "      <td>8.699681</td>\n",
       "      <td>5.634400e+04</td>\n",
       "      <td>10.939249</td>\n",
       "      <td>9.000000</td>\n",
       "    </tr>\n",
       "    <tr>\n",
       "      <th>50%</th>\n",
       "      <td>1.150000e+04</td>\n",
       "      <td>9.350189</td>\n",
       "      <td>1.033960e+05</td>\n",
       "      <td>11.546331</td>\n",
       "      <td>12.000000</td>\n",
       "    </tr>\n",
       "    <tr>\n",
       "      <th>75%</th>\n",
       "      <td>2.350000e+04</td>\n",
       "      <td>10.064798</td>\n",
       "      <td>1.485770e+05</td>\n",
       "      <td>11.908865</td>\n",
       "      <td>18.000000</td>\n",
       "    </tr>\n",
       "    <tr>\n",
       "      <th>max</th>\n",
       "      <td>3.736929e+09</td>\n",
       "      <td>22.041530</td>\n",
       "      <td>1.000000e+07</td>\n",
       "      <td>16.118096</td>\n",
       "      <td>124.000000</td>\n",
       "    </tr>\n",
       "  </tbody>\n",
       "</table>\n",
       "</div>"
      ],
      "text/plain": [
       "              price      price_log      odometer   odometer_log        car_age\n",
       "count  1.114270e+05  111427.000000  1.114270e+05  111427.000000  111427.000000\n",
       "mean   6.312663e+04       9.256585  1.113464e+05      11.250920      14.565671\n",
       "std    1.169797e+07       1.215175  1.860865e+05       1.160534       9.615429\n",
       "min    1.000000e+00       0.693147  1.000000e+00       0.693147       2.000000\n",
       "25%    6.000000e+03       8.699681  5.634400e+04      10.939249       9.000000\n",
       "50%    1.150000e+04       9.350189  1.033960e+05      11.546331      12.000000\n",
       "75%    2.350000e+04      10.064798  1.485770e+05      11.908865      18.000000\n",
       "max    3.736929e+09      22.041530  1.000000e+07      16.118096     124.000000"
      ]
     },
     "execution_count": 18,
     "metadata": {},
     "output_type": "execute_result"
    }
   ],
   "source": [
    "# Apply log transformation to 'price' and 'odometer' to normalize their distributions\n",
    "df['price_log'] = np.log1p(df['price'])\n",
    "df['odometer_log'] = np.log1p(df['odometer'])\n",
    "\n",
    "# Updated Descriptive Statistics\n",
    "df[['price', 'price_log', 'odometer', 'odometer_log', 'car_age']].describe()\n"
   ]
  },
  {
   "cell_type": "code",
   "execution_count": 22,
   "metadata": {},
   "outputs": [],
   "source": [
    "# Drop price and odometer\n",
    "df = df.drop(['price', 'odometer', 'year'], axis=1)"
   ]
  },
  {
   "cell_type": "code",
   "execution_count": 23,
   "metadata": {},
   "outputs": [
    {
     "name": "stdout",
     "output_type": "stream",
     "text": [
      "<class 'pandas.core.frame.DataFrame'>\n",
      "Index: 111427 entries, 31 to 426878\n",
      "Data columns (total 13 columns):\n",
      " #   Column        Non-Null Count   Dtype  \n",
      "---  ------        --------------   -----  \n",
      " 0   manufacturer  111427 non-null  object \n",
      " 1   model         111427 non-null  object \n",
      " 2   condition     111427 non-null  object \n",
      " 3   cylinders     111427 non-null  object \n",
      " 4   fuel          111427 non-null  object \n",
      " 5   title_status  111427 non-null  object \n",
      " 6   transmission  111427 non-null  object \n",
      " 7   drive         111427 non-null  object \n",
      " 8   type          111427 non-null  object \n",
      " 9   paint_color   111427 non-null  object \n",
      " 10  car_age       111427 non-null  float64\n",
      " 11  price_log     111427 non-null  float64\n",
      " 12  odometer_log  111427 non-null  float64\n",
      "dtypes: float64(3), object(10)\n",
      "memory usage: 11.9+ MB\n"
     ]
    }
   ],
   "source": [
    "df.info()"
   ]
  },
  {
   "cell_type": "markdown",
   "metadata": {},
   "source": [
    "#### Encode Categorical Variables"
   ]
  },
  {
   "cell_type": "code",
   "execution_count": 24,
   "metadata": {},
   "outputs": [],
   "source": [
    "from sklearn.preprocessing import LabelEncoder\n",
    "\n",
    "label_encoder = LabelEncoder()\n",
    "df['manufacturer'] = label_encoder.fit_transform(df['manufacturer'])\n",
    "df['model'] = label_encoder.fit_transform(df['model'])\n",
    "df['condition'] = label_encoder.fit_transform(df['condition'])\n",
    "df['cylinders'] = label_encoder.fit_transform(df['cylinders'])\n",
    "df['fuel'] = label_encoder.fit_transform(df['fuel'])\n",
    "df['title_status'] = label_encoder.fit_transform(df['title_status'])\n",
    "df['transmission'] = label_encoder.fit_transform(df['transmission'])\n",
    "df['drive'] = label_encoder.fit_transform(df['drive'])\n",
    "df['type'] = label_encoder.fit_transform(df['type'])\n",
    "df['paint_color'] = label_encoder.fit_transform(df['paint_color'])"
   ]
  },
  {
   "cell_type": "markdown",
   "metadata": {},
   "source": [
    "#### Split Data"
   ]
  },
  {
   "cell_type": "code",
   "execution_count": 25,
   "metadata": {},
   "outputs": [],
   "source": [
    "from sklearn.model_selection import train_test_split\n",
    "\n",
    "# Define features and target variable\n",
    "X = df.drop('price_log', axis=1)\n",
    "y = df['price_log']\n",
    "\n",
    "# Split data into train and test sets\n",
    "X_train, X_test, y_train, y_test = train_test_split(X, y, test_size=0.2, random_state=42)\n"
   ]
  },
  {
   "cell_type": "markdown",
   "metadata": {},
   "source": [
    "### Modeling\n",
    "\n",
    "With your (almost?) final dataset in hand, it is now time to build some models.  Here, you should build a number of different regression models with the price as the target.  In building your models, you should explore different parameters and be sure to cross-validate your findings."
   ]
  },
  {
   "cell_type": "markdown",
   "metadata": {},
   "source": [
    "#### Ridge Regression Model"
   ]
  },
  {
   "cell_type": "code",
   "execution_count": 34,
   "metadata": {},
   "outputs": [
    {
     "name": "stdout",
     "output_type": "stream",
     "text": [
      "Fitting 5 folds for each of 6 candidates, totalling 30 fits\n",
      "Best alpha: {'alpha': 10}\n",
      "Best RMSE: 1.0705495509044318\n"
     ]
    }
   ],
   "source": [
    "from sklearn.linear_model import Ridge\n",
    "from sklearn.model_selection import GridSearchCV\n",
    "\n",
    "# Define the range of alpha values to explore\n",
    "param_grid = {'alpha': [0.001, 0.01, 0.1, 1, 10, 100]}\n",
    "\n",
    "# Initialize Ridge Regression model\n",
    "ridge_reg = Ridge()\n",
    "\n",
    "# Initialize GridSearchCV\n",
    "ridge_grid_search = GridSearchCV(ridge_reg, param_grid, cv=5, scoring='neg_mean_squared_error', verbose=1)\n",
    "\n",
    "# Fit the model\n",
    "ridge_grid_search.fit(X_train, y_train)\n",
    "\n",
    "# Best hyperparameter values\n",
    "print(\"Best alpha:\", ridge_grid_search.best_params_)\n",
    "\n",
    "# Best RMSE score\n",
    "print(\"Best RMSE:\", np.sqrt(-ridge_grid_search.best_score_))"
   ]
  },
  {
   "cell_type": "code",
   "execution_count": 36,
   "metadata": {},
   "outputs": [
    {
     "name": "stdout",
     "output_type": "stream",
     "text": [
      "Top 10 Most Important Features from Ridge Regression:\n",
      "         Feature  Coefficient\n",
      "3      cylinders     0.244705\n",
      "11  odometer_log    -0.244100\n",
      "4           fuel    -0.217075\n",
      "6   transmission     0.085438\n",
      "10       car_age    -0.032106\n",
      "5   title_status    -0.029630\n",
      "2      condition     0.009618\n",
      "7          drive    -0.006011\n",
      "8           type    -0.005691\n",
      "0   manufacturer     0.002196\n"
     ]
    }
   ],
   "source": [
    "# Fit Ridge Regression model with the best alpha value from GridSearchCV\n",
    "best_alpha = ridge_grid_search.best_params_['alpha']\n",
    "ridge_reg = Ridge(alpha=best_alpha)\n",
    "ridge_reg.fit(X_train, y_train)\n",
    "\n",
    "# Get feature importance\n",
    "ridge_feature_importance = pd.DataFrame({\n",
    "    'Feature': X_train.columns,\n",
    "    'Coefficient': ridge_reg.coef_\n",
    "})\n",
    "\n",
    "# Sort features by absolute coefficient values\n",
    "ridge_feature_importance = ridge_feature_importance.reindex(ridge_feature_importance['Coefficient'].abs().sort_values(ascending=False).index)\n",
    "\n",
    "# Display the most important features\n",
    "print(\"Top 10 Most Important Features from Ridge Regression:\")\n",
    "print(ridge_feature_importance.head(10))"
   ]
  },
  {
   "cell_type": "markdown",
   "metadata": {},
   "source": [
    "#### Lasso Regression Model"
   ]
  },
  {
   "cell_type": "code",
   "execution_count": 37,
   "metadata": {},
   "outputs": [
    {
     "name": "stdout",
     "output_type": "stream",
     "text": [
      "Fitting 5 folds for each of 6 candidates, totalling 30 fits\n",
      "Best alpha: {'alpha': 0.001}\n",
      "Best RMSE: 1.0705543881458524\n"
     ]
    }
   ],
   "source": [
    "from sklearn.linear_model import Lasso\n",
    "\n",
    "# Define the range of alpha values to explore\n",
    "param_grid = {'alpha': [0.001, 0.01, 0.1, 1, 10, 100]}\n",
    "\n",
    "# Initialize Lasso Regression model\n",
    "lasso_reg = Lasso()\n",
    "\n",
    "# Initialize GridSearchCV\n",
    "lasso_grid_search = GridSearchCV(lasso_reg, param_grid, cv=5, scoring='neg_mean_squared_error', verbose=1)\n",
    "\n",
    "# Fit the model\n",
    "lasso_grid_search.fit(X_train, y_train)\n",
    "\n",
    "# Best hyperparameter values\n",
    "print(\"Best alpha:\", lasso_grid_search.best_params_)\n",
    "\n",
    "# Best RMSE score\n",
    "print(\"Best RMSE:\", np.sqrt(-lasso_grid_search.best_score_))"
   ]
  },
  {
   "cell_type": "code",
   "execution_count": 38,
   "metadata": {},
   "outputs": [
    {
     "name": "stdout",
     "output_type": "stream",
     "text": [
      "Top 10 Most Important Features from Lasso Regression:\n",
      "         Feature  Coefficient\n",
      "3      cylinders     0.244573\n",
      "11  odometer_log    -0.243591\n",
      "4           fuel    -0.213383\n",
      "6   transmission     0.083230\n",
      "10       car_age    -0.032140\n",
      "5   title_status    -0.028473\n",
      "2      condition     0.009051\n",
      "8           type    -0.005597\n",
      "7          drive    -0.004283\n",
      "0   manufacturer     0.002185\n"
     ]
    }
   ],
   "source": [
    "# Fit Lasso Regression model with the best alpha value from GridSearchCV\n",
    "best_alpha = lasso_grid_search.best_params_['alpha']\n",
    "lasso_reg = Lasso(alpha=best_alpha)\n",
    "lasso_reg.fit(X_train, y_train)\n",
    "\n",
    "# Get feature importance\n",
    "lasso_feature_importance = pd.DataFrame({\n",
    "    'Feature': X_train.columns,\n",
    "    'Coefficient': lasso_reg.coef_\n",
    "})\n",
    "\n",
    "# Sort features by absolute coefficient values\n",
    "lasso_feature_importance = lasso_feature_importance.reindex(lasso_feature_importance['Coefficient'].abs().sort_values(ascending=False).index)\n",
    "\n",
    "# Display the most important features\n",
    "print(\"Top 10 Most Important Features from Lasso Regression:\")\n",
    "print(lasso_feature_importance.head(10))"
   ]
  },
  {
   "cell_type": "markdown",
   "metadata": {},
   "source": [
    "### Evaluation\n",
    "\n",
    "With some modeling accomplished, we aim to reflect on what we identify as a high quality model and what we are able to learn from this.  We should review our business objective and explore how well we can provide meaningful insight on drivers of used car prices.  Your goal now is to distill your findings and determine whether the earlier phases need revisitation and adjustment or if you have information of value to bring back to your client."
   ]
  },
  {
   "cell_type": "markdown",
   "metadata": {},
   "source": [
    "After building and evaluating the Ridge and Lasso regression models, it's crucial to reflect on the quality of these models in the context of our business objective. Our primary goal was to understand the drivers of used car prices and provide meaningful insights to stakeholders.\n",
    "\n",
    "#### Model Performance\n",
    "- Ridge Regression Model:\n",
    "Best Alpha: 10\n",
    "Best RMSE: 1.0705\n",
    "- Lasso Regression Model:\n",
    "Best Alpha: 0.001\n",
    "Best RMSE: 1.0706\n",
    "\n",
    "Both models achieved relatively similar RMSE scores, with the Lasso regression model having a slightly better RMSE. This suggests that both models can predict the price of used cars with reasonable accuracy.\n",
    "\n",
    "\n",
    "#### Feature Importance\n",
    "- Most positively important coefficient in both Ridge and Lasso regression is \"cylinders\" which means that cars with more cylinders tend to have higher prices.\n",
    "\n",
    "- Most negatively important coefficient in both Ridge and Lasso regression is \"odometer\" which means that higher mileage (represented in logarithmic scale) tends to decrease the price of used cars. \n",
    "\n",
    "These insights can be valuable for stakeholders to understand the factors affecting the prices of used cars and to make informed decisions related to pricing strategies, marketing, and inventory management.\n",
    "\n",
    "\n",
    "#### Price Prediction\n",
    "\n",
    "Utilize the best-performing model (Lasso regression with an alpha of 0.001) to predict the prices of used cars accurately. This model can be deployed in a real-world setting to estimate the prices of used cars based on their features."
   ]
  },
  {
   "cell_type": "markdown",
   "metadata": {},
   "source": [
    "### Deployment\n",
    "\n",
    "Now that we've settled on our models and findings, it is time to deliver the information to the client.  You should organize your work as a basic report that details your primary findings.  Keep in mind that your audience is a group of used car dealers interested in fine tuning their inventory."
   ]
  },
  {
   "cell_type": "markdown",
   "metadata": {},
   "source": [
    "## Deployment: Report on Used Car Pricing Analysis\n",
    "\n",
    "### Executive Summary\n",
    "The objective of this analysis was to identify the key factors influencing the prices of used cars. We employed two regression models, Ridge and Lasso, to predict the prices of used cars based on various features. The primary aim is to provide actionable insights to used car dealers to fine-tune their inventory and pricing strategies.\n",
    "\n",
    "### Key Findings\n",
    "#### Most Important Features\n",
    "Both Ridge and Lasso regression models identified the following features as the most influential factors affecting the prices of used cars:\n",
    "\n",
    "1. Cylinders: Cars with more cylinders tend to have higher prices.\n",
    "2. Odometer (Logarithmic Scale): Higher mileage decreases the price of used cars.\n",
    "3. Fuel Type: Certain fuel types may be associated with lower prices.\n",
    "4. Transmission Type: Certain types of transmissions might be associated with higher prices.\n",
    "5. Car Age: Older cars generally have lower prices.\n",
    "6. Title Status: Certain title statuses may be associated with lower prices.\n",
    "7. Condition: Better condition of the car can lead to higher prices.\n",
    "8. Type: Certain car types may be associated with lower prices.\n",
    "9. Drive Type: Certain drive types might be associated with lower prices.\n",
    "10. Manufacturer: Certain manufacturers may have higher-priced vehicles.\n",
    "\n",
    "### Recommendations for Used Car Dealers\n",
    "#### Inventory Management\n",
    "\n",
    "- Stock vehicles with higher cylinder counts to target customers looking for premium or performance cars.\n",
    "- Prioritize vehicles with lower mileage and better condition to command higher prices.\n",
    "- Consider the age, title status, and type of vehicles to determine the optimal inventory mix.\n",
    "\n",
    "#### Pricing Strategy\n",
    "\n",
    "- Adjust pricing based on the identified influential factors. For example, newer cars with lower mileage and more cylinders can be priced higher.\n",
    "- Implement dynamic pricing strategies to reflect the condition, type, and other factors influencing the price of the vehicle.\n",
    "\n",
    "#### Marketing and Sales\n",
    "\n",
    "- Highlight the features and conditions that increase the value of the vehicle in advertisements and sales pitches.\n",
    "- Offer promotions or discounts on vehicles with less desirable features to attract a broader customer base.\n",
    "\n",
    "\n",
    "#### Conclusion\n",
    "Understanding the key factors influencing the prices of used cars is crucial for used car dealers to make informed decisions related to inventory management, pricing strategies, and marketing. By focusing on the most influential features identified in this analysis, used car dealers can fine-tune their inventory and pricing strategies to maximize profitability and meet the needs of their target customers effectively.\n",
    "\n",
    "By implementing these recommendations and insights derived from the Ridge and Lasso regression models, used car dealers can gain a competitive edge in the market and enhance their overall business performance."
   ]
  }
 ],
 "metadata": {
  "kernelspec": {
   "display_name": "Python 3 (ipykernel)",
   "language": "python",
   "name": "python3"
  },
  "language_info": {
   "codemirror_mode": {
    "name": "ipython",
    "version": 3
   },
   "file_extension": ".py",
   "mimetype": "text/x-python",
   "name": "python",
   "nbconvert_exporter": "python",
   "pygments_lexer": "ipython3",
   "version": "3.11.5"
  },
  "widgets": {
   "application/vnd.jupyter.widget-state+json": {
    "state": {},
    "version_major": 2,
    "version_minor": 0
   }
  }
 },
 "nbformat": 4,
 "nbformat_minor": 4
}
